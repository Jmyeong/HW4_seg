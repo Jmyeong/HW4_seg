{
 "cells": [
  {
   "cell_type": "code",
   "execution_count": 8,
   "metadata": {},
   "outputs": [],
   "source": [
    "import numpy as np\n",
    "import cv2\n",
    "from PIL import Image\n",
    "from glob import glob\n",
    "import matplotlib.pyplot as plt\n",
    "import torch.nn as nn\n",
    "import torch"
   ]
  },
  {
   "cell_type": "code",
   "execution_count": 9,
   "metadata": {},
   "outputs": [],
   "source": [
    "def dice_score_binary(pred_mask: np.ndarray, true_mask: np.ndarray, smooth: float = 1e-6):\n",
    "    # 넘파이 배열을 PyTorch 텐서로 변환\n",
    "    pred_mask = torch.tensor(pred_mask, dtype=torch.float32) / 255.0\n",
    "    true_mask = torch.tensor(true_mask, dtype=torch.float32) / 255.0\n",
    "    # print(torch.unique(pred_mask))\n",
    "    # print(torch.unique(true_mask))\n",
    "    # 교집합과 합집합 계산\n",
    "    intersection = (pred_mask * true_mask).sum()\n",
    "    union = pred_mask.sum() + true_mask.sum()\n",
    "\n",
    "    # Dice score 계산\n",
    "    dice = (2. * intersection + smooth) / (union + smooth)\n",
    "    # print(dice)\n",
    "    return dice.item()"
   ]
  },
  {
   "cell_type": "code",
   "execution_count": 13,
   "metadata": {},
   "outputs": [],
   "source": [
    "def compare_image(gt_dict, test_dict):\n",
    "    for (gt_key, gt), (test_key, test) in zip(gt_dict.items(), test_dict.items()):\n",
    "        # print(key)\n",
    "        plt.figure(figsize=(10, 5))\n",
    "        plt.subplot(1, 2, 1)\n",
    "        plt.imshow(gt)\n",
    "        plt.title(gt_key.split(\"/\")[-1])\n",
    "        plt.axis(\"off\")\n",
    "        \n",
    "        plt.subplot(1, 2, 2)\n",
    "        plt.imshow(test)\n",
    "        plt.title(test_key.split(\"/\")[-1])\n",
    "        plt.axis(\"off\")\n",
    "        \n",
    "        plt.tight_layout()\n",
    "        plt.show()"
   ]
  },
  {
   "cell_type": "code",
   "execution_count": 14,
   "metadata": {},
   "outputs": [],
   "source": [
    "def make_dict(image_list, image_name_list):\n",
    "    new_dict = {}\n",
    "    for image, name in zip(image_list, image_name_list):\n",
    "        new_dict[name] = image\n",
    "    return new_dict"
   ]
  },
  {
   "cell_type": "code",
   "execution_count": 23,
   "metadata": {},
   "outputs": [
    {
     "name": "stdout",
     "output_type": "stream",
     "text": [
      "Avg Dice score : 0.8175751136144622\n"
     ]
    }
   ],
   "source": [
    "test_path = \"./outputs\"\n",
    "test_lists = glob(test_path + \"/**/*.tif\", recursive=True)\n",
    "test_image_list = []\n",
    "for test in test_lists:\n",
    "    image = Image.open(test)\n",
    "    image = np.array(image)\n",
    "    print(type(image))\n",
    "    test_image_list.append(image)\n",
    "        \n",
    "gt_path = \"./HW4_data/kaggle_3m\"\n",
    "gt_lists = glob(gt_path + \"/**/*.tif\", recursive=True)\n",
    "gt_image_list = []\n",
    "final_test_image_list = []\n",
    "final_test_list = []\n",
    "gt_name_list = []\n",
    "\n",
    "for gt in gt_lists:\n",
    "    for test in test_lists:\n",
    "        if test.split(\"/\")[-1] == gt.split(\"/\")[-1]:\n",
    "            # print(test)\n",
    "            # print(gt)\n",
    "            gt_image = Image.open(gt)\n",
    "            gt_image = np.array(gt_image)\n",
    "            test_image = Image.open(test)\n",
    "            test_image = np.array(test_image)\n",
    "            gt_image_list.append(gt_image)\n",
    "            gt_name_list.append(gt)\n",
    "            final_test_image_list.append(test_image)\n",
    "            final_test_list.append(test)\n",
    "            \n",
    "gt_name_list = sorted(gt_name_list)\n",
    "final_test_list = sorted(final_test_list)\n",
    "     \n",
    "gt_dict = make_dict(image_list=gt_image_list, image_name_list=gt_name_list)\n",
    "test_dict = make_dict(image_list=final_test_image_list, image_name_list=final_test_list)\n",
    "\n",
    "# print(len(gt_dict))\n",
    "\n",
    "dice_scores = []\n",
    "\n",
    "for i in range(len(gt_image_list)):\n",
    "    Dice = dice_score_binary(gt_image_list[i], final_test_image_list[i])\n",
    "    # print(Dice)\n",
    "    dice_scores.append(Dice)\n",
    "\n",
    "# compare_image(gt_dict=gt_dict, test_dict=test_dict)\n",
    "\n",
    "avg_dice = np.mean(dice_scores)\n",
    "print(f\"Avg Dice score : {avg_dice}\")"
   ]
  },
  {
   "cell_type": "code",
   "execution_count": null,
   "metadata": {},
   "outputs": [],
   "source": []
  },
  {
   "cell_type": "code",
   "execution_count": null,
   "metadata": {},
   "outputs": [],
   "source": []
  }
 ],
 "metadata": {
  "kernelspec": {
   "display_name": "jm",
   "language": "python",
   "name": "python3"
  },
  "language_info": {
   "codemirror_mode": {
    "name": "ipython",
    "version": 3
   },
   "file_extension": ".py",
   "mimetype": "text/x-python",
   "name": "python",
   "nbconvert_exporter": "python",
   "pygments_lexer": "ipython3",
   "version": "3.10.15"
  }
 },
 "nbformat": 4,
 "nbformat_minor": 2
}
